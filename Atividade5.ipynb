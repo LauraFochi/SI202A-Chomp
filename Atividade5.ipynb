{
  "nbformat": 4,
  "nbformat_minor": 0,
  "metadata": {
    "colab": {
      "name": "Chomp.ipynb",
      "provenance": [],
      "collapsed_sections": []
    },
    "kernelspec": {
      "name": "python3",
      "display_name": "Python 3"
    }
  },
  "cells": [
    {
      "cell_type": "markdown",
      "metadata": {
        "id": "pyRlbvtnB-jh"
      },
      "source": [
        "##Chomp\n",
        "\n",
        "Chomp é um jogo de estratégia para 2 jogadores jogado em um tabuleiro retangular composto por blocos, parecido com uma barra de chocolate. A cada rodada, o jogador deve escolher um bloco para remover juntamente com todos os blocos que estão abaixo e ao seu lado direito. \n",
        "Perde o jogo quem sobrar para remover o ultimo bloco, no canto superior esquerdo do tabuleiro, representado como bloco \"envenenado\"."
      ]
    },
    {
      "cell_type": "markdown",
      "metadata": {
        "id": "qM0piwcAD3ci"
      },
      "source": [
        "###Tabuleiro\n",
        "\n",
        "O tabuleiro é composto por quadrados, como na imagem abaixo. Tipicamente, o tabuleiro é formado por 5 colunas e 4 linhas, porém ele pode ser diminuído ou aumentado sem problemas.\n",
        "  \n",
        "![Sem título.png](data:image/png;base64,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)\n"
      ]
    },
    {
      "cell_type": "markdown",
      "metadata": {
        "id": "jFyOpuzZI2vV"
      },
      "source": [
        "###Movimentos\n",
        "\n",
        "O jogador da vez deve escolher um bloco para retirar, juntamente com os blocos abaixo e ao seu lado direito. Confira exemplos de movimentos possíveis abaixo:\n",
        "\n",
        "![mov1.png](data:image/png;base64,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)\n",
        "\n",
        "No exemplo acima, o jogador 1 escolheu remover o bloco na linha 3 coluna 5, removendo juntamente o bloco abaixo.\n",
        "\n",
        "![mov2.png](data:image/png;base64,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)\n",
        "\n",
        "Continuando o jogo, o jogador -1 removeu o bloco da quarta linha, terceira coluna, removendo também, por regra, os blocos a direita.\n",
        "\n",
        "![mov3.png](data:image/png;base64,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)\n",
        "\n",
        "Dando continuidade, o jogador 1 decide remover o bloco da primeira linha, segunda coluna, removendo os demais abaixo e a direita.\n",
        "\n"
      ]
    },
    {
      "cell_type": "markdown",
      "metadata": {
        "id": "gURcepr_JIyO"
      },
      "source": [
        "###Vitória\n",
        "\n",
        "Vence o jogo aquele que não remove o último bloco, fazendo com que o outro jogador remova o bloco \"envenenado\" e perca. Confira o exemplo, continuando o jogo que começamos na subseção anterior (Movimentos)\n",
        "\n",
        "![mov4.png](data:image/png;base64,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)\n",
        "\n",
        "O jogador -1 escolheu remover o bloco na segunda linha, primeira coluna. Desse modo ele vence o jogo, já que o jogador 1 só pode escolher o bloco envenenado."
      ]
    },
    {
      "cell_type": "markdown",
      "metadata": {
        "id": "kTENtm2miabL"
      },
      "source": [
        "##Atividade 4\n"
      ]
    },
    {
      "cell_type": "markdown",
      "metadata": {
        "id": "xnAbWPlaBPRx"
      },
      "source": [
        "###Tabuleiro\n",
        "\n",
        "Decidimos representar o tabuleiro com uma tupla de tuplas (matriz), para facilitar a visualização e manipulação de dados.\n",
        "Vamos representa-lo inicalmente da forma mais comum, com 4 linhas e 5 colunas, mas isso pode ser alterado sem problemas\n",
        "Cada célula do tabuleiro pode:\n",
        "- Estar intacta, representada com 0\n",
        "- Ter sido removida, representada pelo jogador que a removeu (-1 ou 1) \n",
        "\n",
        "Dessa forma, a seguir temos um tabuleiro vazio:\n",
        "\n",
        "tabuleiro = (\n",
        "\n",
        "              ( 0, 0, 0, 0, 0),\n",
        "\n",
        "              ( 0, 0, 0, 0, 0),\n",
        "\n",
        "              ( 0, 0, 0, 0, 0),\n",
        "\n",
        "              ( 0, 0, 0, 0, 0)\n",
        "\n",
        ")\n",
        "\n",
        "A seguir temos um tabuleiro em que:\n",
        "- o jogador 1 escolheu remover o bloco na linha 3 coluna 5, removendo juntamente o bloco abaixo\n",
        "- o jogador -1 removeu o bloco da quarta linha, terceira coluna, removendo também, por regra, os blocos a direita.\n",
        "\n",
        "tabuleiro = (\n",
        "\n",
        "              (  0,  0,  0,  0,  0),\n",
        "\n",
        "              (  0,  0,  0,  0,  0),\n",
        "\n",
        "              (  0,  0,  0,  0,  1),\n",
        "\n",
        "              (  0,  0, -1, -1,  1)\n",
        "\n",
        ")\n",
        "\n",
        "Assim, vamos implementar um tabuleiro vazio no nosso código dessa forma:\n"
      ]
    },
    {
      "cell_type": "code",
      "metadata": {
        "id": "iPMDxAqvDrDN"
      },
      "source": [
        "##Tabuleiro vazio\n",
        "tabuleiro = ((0,0,0,0,0),(0,0,0,0,0),(0,0,0,0,0),(0,0,0,0,0))"
      ],
      "execution_count": null,
      "outputs": []
    },
    {
      "cell_type": "markdown",
      "metadata": {
        "id": "TeYRlr71EP9R"
      },
      "source": [
        "###Vencedor\n",
        "Como já explicado anteriormente, o vencedor é aquele que que não remove o último bloco, fazendo com que o outro jogador remova o bloco \"envenenado\" e perca. \n",
        "\n",
        "Dessa forma podemos dizer que o vencedor é aquele que não removeu a célula na posição [0][0].\n",
        "\n",
        "A seguir, temos uma função que retorna quem venceu o jogo. É impossível ocorrer empates no nosso jogo, dessa forma não precisamos criar uma condição para esse caso."
      ]
    },
    {
      "cell_type": "code",
      "metadata": {
        "id": "GZykUhJHF_b3"
      },
      "source": [
        "## Código que devolve o jogador vencedor\n",
        "def winner(tab) :\n",
        "  return (tab[0][0]*-1)"
      ],
      "execution_count": null,
      "outputs": []
    },
    {
      "cell_type": "code",
      "metadata": {
        "id": "IUhlthY5G5he",
        "outputId": "7f822bfd-4e88-4d3b-e752-c4176c273f43",
        "colab": {
          "base_uri": "https://localhost:8080/"
        }
      },
      "source": [
        "## Exemplo de uso do que tempos até agora.\n",
        "tabuleiro = ((1,1,1,1,1),(-1,1,1,1,1),(-1,1,1,1,1),(-1,1,-1,-1,1))\n",
        "winner(tabuleiro)"
      ],
      "execution_count": null,
      "outputs": [
        {
          "output_type": "execute_result",
          "data": {
            "text/plain": [
              "-1"
            ]
          },
          "metadata": {
            "tags": []
          },
          "execution_count": 7
        }
      ]
    },
    {
      "cell_type": "markdown",
      "metadata": {
        "id": "nWJyFY1PIfnD"
      },
      "source": [
        "###Jogadas Válidas\n",
        "\n",
        "Um jogador pode escolher qualquer célula para remover, desde que ela nao tenha sido removida posteriormente.  Nesse caso, podemos representar uma jogada válida como o índice de uma célula não removida.\n",
        "\n",
        "Definindo nossa função que retorna as posições das jogadas válidas:"
      ]
    },
    {
      "cell_type": "code",
      "metadata": {
        "id": "q5YigY6eIv6n"
      },
      "source": [
        "## Função que devolve as jogadas válidas\n",
        "def get_valid_moves(tab) :\n",
        "  valids = []\n",
        "  for i in range(len(tab)) :\n",
        "    for j in range(len(tab[i])) :\n",
        "      if tab[i][j] == 0 :\n",
        "        valids.append((i,j))\n",
        "  return valids"
      ],
      "execution_count": null,
      "outputs": []
    },
    {
      "cell_type": "code",
      "metadata": {
        "id": "yXMgOrEgJKPr",
        "outputId": "0ab62d0a-d51c-4653-bb3a-9cf5d173a594",
        "colab": {
          "base_uri": "https://localhost:8080/"
        }
      },
      "source": [
        "tabuleiro = ((0,0,0,0,0),(0,0,0,0,0),(0,0,0,0,1),(0,0,-1,-1,1))\n",
        "get_valid_moves(tabuleiro)"
      ],
      "execution_count": null,
      "outputs": [
        {
          "output_type": "execute_result",
          "data": {
            "text/plain": [
              "[(0, 0),\n",
              " (0, 1),\n",
              " (0, 2),\n",
              " (0, 3),\n",
              " (0, 4),\n",
              " (1, 0),\n",
              " (1, 1),\n",
              " (1, 2),\n",
              " (1, 3),\n",
              " (1, 4),\n",
              " (2, 0),\n",
              " (2, 1),\n",
              " (2, 2),\n",
              " (2, 3),\n",
              " (3, 0),\n",
              " (3, 1)]"
            ]
          },
          "metadata": {
            "tags": []
          },
          "execution_count": 9
        }
      ]
    },
    {
      "cell_type": "markdown",
      "metadata": {
        "id": "5XAQRjAGWXlY"
      },
      "source": [
        "###Efetuando jogadas\n",
        "\n",
        "Com a finalidade de criar um jogador que efetuará jogadas ao acaso, somente é necessario informar dois dados, todas as jogadas validas no momento, e de quem é a vez de jogar \"-1\" ou \"1\".\n",
        "\n"
      ]
    },
    {
      "cell_type": "code",
      "metadata": {
        "id": "DQwucTkxWeCS"
      },
      "source": [
        "#função jogadas ao acaso\n",
        "import random\n",
        "\n",
        "## A função player recebe dois parâmetros, \"tab\" e \"turn\",\n",
        "## turn indica qual jogador efetuará a jogada, -1 ou 1,\n",
        "## e tab recebe como parâmetro um tabuleiro.\n",
        "def player(tab, turn) :\n",
        "  valid_moves = get_valid_moves(tab)\n",
        "  if valid_moves :\n",
        "    return (turn, random.choice(valid_moves))\n",
        "    "
      ],
      "execution_count": null,
      "outputs": []
    },
    {
      "cell_type": "code",
      "metadata": {
        "id": "OH40UgJgghXZ",
        "outputId": "462174b2-2584-402b-c585-c333dc68ee92",
        "colab": {
          "base_uri": "https://localhost:8080/"
        }
      },
      "source": [
        "tabuleiro = ((0,0,0,0,0),(0,0,0,0,0),(1,1,1,1,1),(1,1,-1,-1,1))\n",
        "\n",
        "## A função retornara qual jogador esta efetuando a jogada,\n",
        "## seguida da posição escolhida\n",
        "player(tabuleiro, -1)"
      ],
      "execution_count": null,
      "outputs": [
        {
          "output_type": "execute_result",
          "data": {
            "text/plain": [
              "(-1, (0, 0))"
            ]
          },
          "metadata": {
            "tags": []
          },
          "execution_count": 7
        }
      ]
    },
    {
      "cell_type": "markdown",
      "metadata": {
        "id": "Kwj15AyzuWiQ"
      },
      "source": [
        "##Atividade 5"
      ]
    },
    {
      "cell_type": "markdown",
      "metadata": {
        "id": "g-sIeWnuuccy"
      },
      "source": [
        "###Gerenciador de Jogo\n",
        "\n",
        "O gerenciador irá:\n",
        "\n",
        "- Garantir que pedirá para o jogador certo jogar (alternância entre jogadores).\n",
        "- Gerenciar o tabuleiro de modo a fazer com que as jogadas sejam concretizadas.\n",
        "- Verificar se as condições de vitória, derrota ou empates já foram satisfeitas.\n",
        "- Armazenar um histórico de jogadas, para que os jogadores posteriormente possam analisar."
      ]
    },
    {
      "cell_type": "code",
      "metadata": {
        "id": "hl7QQ_XB6NSE"
      },
      "source": [
        "## Função que gerencia um jogo. \n",
        "def game(player1, player2) :\n",
        "    ## Inicialização\n",
        "    turn   = 1\n",
        "    tab    = ((0,0,0,0,0),(0,0,0,0,0),(0,0,0,0,0),(0,0,0,0,0))\n",
        "    result = 0 \n",
        "\n",
        "    ## Lista que guardará o histórico\n",
        "    history = [] \n",
        "\n",
        "    ## Enquanto houverem jogadas, pedimos para o jogador vez prosseguir\n",
        "    while get_valid_moves(tab) :\n",
        "\n",
        "        ## Pedindo uma jogada ao jogador da vez.\n",
        "        piece, pos = None, None\n",
        "        if turn == 1 :\n",
        "            piece, pos = player1(tab, turn)    \n",
        "        else : \n",
        "            piece, pos = player2(tab, turn)\n",
        "        \n",
        "        ## Colocando a peça no tabuleiro\n",
        "        ltab = list(tab)\n",
        "        for linha in range(len(ltab)) :\n",
        "          for coluna in range(len(ltab[linha])) :\n",
        "            if ltab[linha][coluna] == 0 and linha >= pos[0] and coluna >= pos[1] :\n",
        "              #print(linha >= pos[0], coluna >= pos[1])\n",
        "              lttab = list(ltab[linha])\n",
        "              lttab[coluna] = piece\n",
        "              ltab[linha] = tuple(lttab)\n",
        "\n",
        "        tab  = tuple(ltab)\n",
        "        ## Comentário para teste de Posição jogada -> Tabuleiro modificado\n",
        "        #print(pos, \"->\", tab)\n",
        "\n",
        "        ## Adicionando tabuleiro no histórico\n",
        "        history.append(tab)\n",
        "\n",
        "        ## Verificando se alguém ganhou\n",
        "        result = winner(tab)\n",
        "        if result :\n",
        "            break\n",
        "\n",
        "        ## Trocando a vez de jogar\n",
        "        turn = -turn\n",
        "    \n",
        "    return result, history"
      ],
      "execution_count": null,
      "outputs": []
    },
    {
      "cell_type": "code",
      "metadata": {
        "id": "qPdD1OGB_Ip_",
        "outputId": "0a1ace9c-2b07-43cd-cd99-64b8d788f24b",
        "colab": {
          "base_uri": "https://localhost:8080/"
        }
      },
      "source": [
        "result, history = game(player, player)\n",
        "print(result)\n",
        "print(history)"
      ],
      "execution_count": null,
      "outputs": [
        {
          "output_type": "stream",
          "text": [
            "(0, 1) ----> ((0, 1, 1, 1, 1), (0, 1, 1, 1, 1), (0, 1, 1, 1, 1), (0, 1, 1, 1, 1))\n",
            "(1, 0) ----> ((0, 1, 1, 1, 1), (-1, 1, 1, 1, 1), (-1, 1, 1, 1, 1), (-1, 1, 1, 1, 1))\n",
            "(0, 0) ----> ((1, 1, 1, 1, 1), (-1, 1, 1, 1, 1), (-1, 1, 1, 1, 1), (-1, 1, 1, 1, 1))\n",
            "-1\n",
            "[((0, 1, 1, 1, 1), (0, 1, 1, 1, 1), (0, 1, 1, 1, 1), (0, 1, 1, 1, 1)), ((0, 1, 1, 1, 1), (-1, 1, 1, 1, 1), (-1, 1, 1, 1, 1), (-1, 1, 1, 1, 1)), ((1, 1, 1, 1, 1), (-1, 1, 1, 1, 1), (-1, 1, 1, 1, 1), (-1, 1, 1, 1, 1))]\n"
          ],
          "name": "stdout"
        }
      ]
    },
    {
      "cell_type": "markdown",
      "metadata": {
        "id": "_RAtkG-2DN_z"
      },
      "source": [
        "###Adicionando Jogador Humano\n",
        "\n",
        "A função abaixo é responsável por aguardar uma input e prosseguir com a partida tão logo esse input seja fornecido."
      ]
    },
    {
      "cell_type": "code",
      "metadata": {
        "id": "FSGsS9xuBO2e"
      },
      "source": [
        "def human_player(tab, turn) :        \n",
        "    valids  = get_valid_moves(tab)\n",
        "    print(\"Peça: %s, tabuleiro: %s, válidos: %s\" % (turn, tab, valids))\n",
        "    move_x, move_y = int(input()), int(input())\n",
        "\n",
        "    while not (move_x, move_y) in valids : \n",
        "        print(\"Peça: %s, tabuleiro: %s, válidos: %s\" % (turn, tab, valids))\n",
        "        move_x, move_y = int(input()), int(input())\n",
        "    return turn, (move_x, move_y)"
      ],
      "execution_count": null,
      "outputs": []
    },
    {
      "cell_type": "code",
      "metadata": {
        "id": "j2x5-Tn7DkG9"
      },
      "source": [
        "human_player(tabuleiro, -1) "
      ],
      "execution_count": null,
      "outputs": []
    },
    {
      "cell_type": "markdown",
      "metadata": {
        "id": "t-JzPrhbDel_"
      },
      "source": [
        "Agora podemos fazer com que um jogador humano jogue contra um bot."
      ]
    },
    {
      "cell_type": "code",
      "metadata": {
        "id": "1wGU4ntsBe0x",
        "outputId": "e8015077-1e03-497b-a2e0-015ee1c64fc2",
        "colab": {
          "base_uri": "https://localhost:8080/"
        }
      },
      "source": [
        "result, history = game(player, human_player)\n",
        "print(\"Resultado : %s\" % result)"
      ],
      "execution_count": null,
      "outputs": [
        {
          "output_type": "stream",
          "text": [
            "Peça: -1, tabuleiro: ((0, 0, 1, 1, 1), (0, 0, 1, 1, 1), (0, 0, 1, 1, 1), (0, 0, 1, 1, 1)), válidos: [(0, 0), (0, 1), (1, 0), (1, 1), (2, 0), (2, 1), (3, 0), (3, 1)]\n",
            "0\n",
            "1\n",
            "Resultado : -1\n"
          ],
          "name": "stdout"
        }
      ]
    }
  ]
}